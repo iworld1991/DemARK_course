{
 "cells": [
  {
   "cell_type": "markdown",
   "metadata": {
    "deletable": true,
    "editable": true
   },
   "source": [
    "# Micro- and Macroeconomic Implications of Very Impatient Households"
   ]
  },
  {
   "cell_type": "markdown",
   "metadata": {
    "deletable": true,
    "editable": true
   },
   "source": [
    "## Introduction\n",
    "\n",
    "Buffer stock saving models of the kind implemented in $\\texttt{ConsIndShockType}$ say that, if a standard ['Growth Impatience Condition'](https://econ.jhu.edu/people/ccarroll/papers/BufferStockTheory/#Growth-Modified-Conditions), holds:\n",
    "\n",
    "\\begin{eqnarray}\n",
    "\\newcommand{\\Rfree}{\\mathsf{R}}\\newcommand{\\DiscFac}{\\beta}\\newcommand{\\PermGroFac}{\\Gamma}\\newcommand{\\PermShk}{\\psi}\\newcommand{\\CRRA}{\\rho}\n",
    "\\left(\\frac{(\\Rfree\\DiscFac)^{1/\\CRRA}\\mathbb{E}[\\PermShk^{-1}]}{\\PermGroFac}\\right) & < & 1\n",
    "\\end{eqnarray}\n",
    "\n",
    "then the _ratio_ of asets $\\newcommand{\\aLev}{\\mathbf{a}}\\aLev$ to permanent income $\\newcommand{\\pLev}{\\mathbf{p}}\\pLev$, $a=\\aLev/\\pLev$, has a target value $\\newcommand{\\aTarg}{\\check{a}}\\aTarg$ that depends on the consumer's preferences (relative risk aversion $\\CRRA$, time preference $\\DiscFac$) and circumstances (interest factor $\\Rfree$, growth factor $\\PermGroFac$, uncertainty about permanent income shocks $\\sigma^{2}_{\\PermShk}$).\n",
    "\n",
    "If everyone had identical preferences and everyone were at their target $\\check{a}$, then inequality in the level of $\\aLev$ would be exactly the same as inequality in $\\pLev$.\n",
    "\n",
    "[\"The Distribution of Wealth and the Marginal Propensity to Consume\"](http://econ.jhu.edu/people/ccarroll/papers/cstwMPC) (Carroll, Slacalek, Tokuoka, and White 2017; hereafter: \"cstwMPC\") shows that, when such a model is simulated and agents draw their idiosyncratic shocks (so, agents are _ex post_ heterogeneous -- see the definition in [Intro-To-HARK](http://github.com/econ-ark/PARK/tree/master/Intro-To-HARK.pdf)) -- asset inequality is indeed close to $\\pLev$ inequality even though everyone is not always at exactly their target $a$.\n",
    "\n",
    "But a large body of evidence shows that _actual_ inequality in assets is much greater than _actual_ inequality in permanent income.  Thus, to make a model that qualifies as what cstwMPC call a 'serious' microfounded macro model of consumption (one that matches the key facts _theory says_ should be first-order important), the model must be modified to incorporate some form of _ex ante_ heterogeneity: That is, there must be differences across people in $\\DiscFac$ or $\\Rfree$ or $\\CRRA$ or $\\PermGroFac$ or $\\sigma^{2}_{\\PermShk}$.\n",
    "\n",
    "The most transparent and simplest of these to change is the time preference factor $\\beta$.  So that is what the paper does.  The main results are:\n",
    "\n",
    "1. The distribution of $\\beta$ need not be particularly wide to match the extreme concentration of wealth: roughly 0.91 to 0.98 (annual); that is, the most impatient person discounts the future about 6 percentage points more per year than the most patient agent agent\n",
    "2. With such a distribution of $\\beta$, simulated agents' (annual) marginal propensity to consume (MPC) from transitory income shocks to income matches large body of microeconomic evidence that typically finds evidence of MPC's in the range of 0.2 to 0.6.  This is much better than RA macro models that typically yield MPC's in the range of 0.01 to 0.05.\n",
    "\n",
    "While the most impatient agents in the cstwMPC model have fairly high MPCs (~0.6 annual), there is microeconomic evidence that a significant fraction of households have *even higher* MPCs than the model predicts, especially at the quarterly frequency.  This group of households is commonly referred to as \"hand-to-mouth\" -- they consume most of their transitory shocks to income not too long after they receive them (mostly within a quarter).  There are several reasons why a household could be hand-to-mouth, but one plausible explanation is that these households are *even more impatient* than estimated by cstwMPC for the most impatient agent.\n"
   ]
  },
  {
   "cell_type": "markdown",
   "metadata": {
    "deletable": true,
    "editable": true
   },
   "source": [
    "### PROBLEM \n",
    "In this exercise, you will explore the micro- and macroeconomic implications of some households being *very impatient*. Specifically, you will address the following questions:\n",
    "\n",
    "1. How does the distribution of the MPC change (relative to cstwMPC's baseline) if some simulated households are extremely impatient?  Do we observe a significant portion of hand-to-mouth households?\n",
    "2. How does the distribution (and aggregate level) of wealth change if some households are extremely impatient?  Does this distribution of $\\beta$ still generate a wealth distribution like the one seen in U.S. data?"
   ]
  },
  {
   "cell_type": "code",
   "execution_count": 1,
   "metadata": {
    "code_folding": [
     25
    ],
    "collapsed": true,
    "deletable": true,
    "editable": true
   },
   "outputs": [],
   "source": [
    "# This cell does some setup and imports generic tools used to produce the figures\n",
    "\n",
    "import sys \n",
    "import os\n",
    "sys.path.insert(0, os.path.abspath('../lib'))\n",
    "\n",
    "from util import log_progress\n",
    "import numpy as np\n",
    "from copy import deepcopy\n",
    "\n",
    "import HARK # Prevents import error from Demos repo\n",
    "from HARK.utilities import plotFuncs\n",
    "\n",
    "\n",
    "Generator=False # Is this notebook the master or is it generated?\n",
    "# Import related generic python packages\n",
    "\n",
    "# Set how many digits past the decimal point should be printed?\n",
    "from time import clock\n",
    "mystr   = lambda number : \"{:.4f}\".format(number)\n",
    "decfmt4 = lambda number : \"{:.4f}\".format(number)\n",
    "decfmt3 = lambda number : \"{:.3f}\".format(number)\n",
    "decfmt2 = lambda number : \"{:.2f}\".format(number)\n",
    "decfmt1 = lambda number : \"{:.1f}\".format(number)\n",
    "\n",
    "# This is a jupytext paired notebook that autogenerates BufferStockTheory.py\n",
    "# which can be executed from a terminal command line via \"ipython BufferStockTheory.py\"\n",
    "# But a terminal does not permit inline figures, so we need to test jupyter vs terminal\n",
    "# Google \"how can I check if code is executed in the ipython notebook\"\n",
    "\n",
    "from IPython import get_ipython # In case it was run from python instead of ipython\n",
    "def in_ipynb():\n",
    "    try:\n",
    "        if str(type(get_ipython())) == \"<class 'ipykernel.zmqshell.ZMQInteractiveShell'>\":\n",
    "            return True\n",
    "        else:\n",
    "            return False\n",
    "    except NameError:\n",
    "        return False\n",
    "\n",
    "# Determine whether to make the figures inline (for spyder or jupyter)\n",
    "# vs whatever is the automatic setting that will apply if run from the terminal\n",
    "if in_ipynb():\n",
    "    # %matplotlib inline generates a syntax error when run from the shell\n",
    "    # so do this instead\n",
    "    get_ipython().run_line_magic('matplotlib', 'inline')\n",
    "else:\n",
    "    get_ipython().run_line_magic('matplotlib', 'auto')\n",
    "\n",
    "# Import the plot-figure library matplotlib\n",
    "\n",
    "import matplotlib.pyplot as plt\n",
    "\n",
    "# In order to use LaTeX to manage all text layout in our figures, we import rc settings from matplotlib.\n",
    "from matplotlib import rc\n",
    "plt.rc('font', family='serif')\n",
    "\n",
    "# LaTeX is huge and takes forever to install on mybinder\n",
    "# so if it is not installed then do not use it \n",
    "from distutils.spawn import find_executable\n",
    "iflatexExists=False\n",
    "if find_executable('latex'):\n",
    "    iflatexExists=True\n",
    "    \n",
    "plt.rc('text', usetex= iflatexExists)\n",
    "\n",
    "# The warnings package allows us to ignore some harmless but alarming warning messages\n",
    "import warnings\n",
    "warnings.filterwarnings(\"ignore\")\n",
    "\n",
    "from copy import copy, deepcopy"
   ]
  },
  {
   "cell_type": "markdown",
   "metadata": {
    "deletable": true,
    "editable": true
   },
   "source": [
    "## Calibrating a Basic Version of cstwMPC\n",
    "\n",
    "To get started, let's reproduce a simplified version of the main results from cstwMPC.  \n",
    "\n",
    "In cstwMPC, the authors calibrated nearly all of the model parameters-- risk aversion, income shock process, etc-- to commonly used or previously estimated values.  The only parameter to be estimated is the distribution of $\\beta$.  cstwMPC assumed that $\\beta$ is uniformly distributed on $[\\grave{\\beta}-\\nabla,\\grave{\\beta}+\\nabla]$, approximated by a seven point distribution.\n",
    "\n",
    "Their estimation procedure seeks the values of $\\grave{\\beta}$ and $\\nabla$ that generate a simulated distribution of wealth that best matches empirical U.S. data.  Their definition of \"best match\" has two aspects:\n",
    "\n",
    "1. The simulated aggregate capital-to-income ratio matches the true U.S. value.\n",
    "2. The sum of squared distances between the simulated and empirical Lorenz curves (at the 20th, 40th, 60th, and 80th percentiles) is minimized (conditional on item 1).\n",
    "\n",
    "cstwMPC's target empirical moments are a capital-to-income ratio of 10.26 and cumulative wealth shares as given in the table below.  Yes, you are reading the table correctly: The \"poorest\" 80 percent of households own 17.5 percent of wealth. \n",
    "\n",
    "| Net worth percentile | Cumulative wealth share |\n",
    "|:---:|:---:|\n",
    "|  20th  | -0.2% |\n",
    "|  40th  | 1.0% |\n",
    "|  60th  | 5.5% |\n",
    "|  80th  | 17.5% |\n",
    "\n",
    "To reproduce their basic results, we must import an $\\texttt{AgentType}$ subclass and define a dictionary with calibrated parameters identical to those in the paper."
   ]
  },
  {
   "cell_type": "code",
   "execution_count": 2,
   "metadata": {
    "code_folding": [
     0,
     4
    ],
    "collapsed": true,
    "deletable": true,
    "editable": true
   },
   "outputs": [],
   "source": [
    "# Import IndShockConsumerType\n",
    "from HARK.ConsumptionSaving.ConsIndShockModel import IndShockConsumerType\n",
    "\n",
    "# Define a dictionary with calibrated parameters\n",
    "cstwMPC_calibrated_parameters = {\n",
    "    \"CRRA\":1.0,                    # Coefficient of relative risk aversion \n",
    "    \"Rfree\":1.01/(1.0 - 1.0/160.0), # Survival probability,\n",
    "    \"PermGroFac\":[1.000**0.25], # Permanent income growth factor (no perm growth),\n",
    "    \"PermGroFacAgg\":1.0,\n",
    "    \"BoroCnstArt\":0.0,\n",
    "    \"CubicBool\":False,\n",
    "    \"vFuncBool\":False,\n",
    "    \"PermShkStd\":[(0.01*4/11)**0.5],  # Standard deviation of permanent shocks to income\n",
    "    \"PermShkCount\":5,  # Number of points in permanent income shock grid\n",
    "    \"TranShkStd\":[(0.01*4)**0.5],  # Standard deviation of transitory shocks to income,\n",
    "    \"TranShkCount\":5,  # Number of points in transitory income shock grid\n",
    "    \"UnempPrb\":0.07,  # Probability of unemployment while working\n",
    "    \"IncUnemp\":0.15,  # Unemployment benefit replacement rate\n",
    "    \"UnempPrbRet\":None,\n",
    "    \"IncUnempRet\":None,\n",
    "    \"aXtraMin\":0.00001,  # Minimum end-of-period assets in grid\n",
    "    \"aXtraMax\":40,  # Maximum end-of-period assets in grid\n",
    "    \"aXtraCount\":32,  # Number of points in assets grid\n",
    "    \"aXtraExtra\":[None],\n",
    "    \"aXtraNestFac\":3,  # Number of times to 'exponentially nest' when constructing assets grid\n",
    "    \"LivPrb\":[1.0 - 1.0/160.0],  # Survival probability\n",
    "    \"DiscFac\":0.97,             # Default intertemporal discount factor; dummy value, will be overwritten\n",
    "    \"cycles\":0,\n",
    "    \"T_cycle\":1,\n",
    "    \"T_retire\":0,\n",
    "    'T_sim':1200,  # Number of periods to simulate (idiosyncratic shocks model, perpetual youth)\n",
    "    'T_age': 400,\n",
    "    'IndL': 10.0/9.0,  # Labor supply per individual (constant),\n",
    "    'aNrmInitMean':np.log(0.00001),\n",
    "    'aNrmInitStd':0.0,\n",
    "    'pLvlInitMean':0.0,\n",
    "    'pLvlInitStd':0.0,\n",
    "    'AgentCount':10000,\n",
    "}"
   ]
  },
  {
   "cell_type": "markdown",
   "metadata": {
    "deletable": true,
    "editable": true
   },
   "source": [
    "Now let's make several instances of our class of agents and give them different values of $\\beta$, following cstwMPC's estimated distribution.  In our specification of interest, we will use $\\grave{\\beta}=0.9855583$ and $\\nabla = 0.0085$.\n",
    "\n",
    "NB: Reported parameter estimates in cstwMPC use a model with aggregate shocks and wage and interest rates determined dynamically (a heterogeneous agents DSGE model); this is the $\\texttt{AggShockConsumerType}$ in HARK.  The estimated parameters are slightly different in this exercise, as we are ignoring general equilibrium aspects and only using the $\\texttt{IndShockConsumerType}$"
   ]
  },
  {
   "cell_type": "code",
   "execution_count": 3,
   "metadata": {
    "collapsed": true,
    "deletable": true,
    "editable": true
   },
   "outputs": [],
   "source": [
    "# This cell constructs seven instances of IndShockConsumerType with different discount factors\n",
    "from HARK.utilities import approxUniform\n",
    "BaselineType = IndShockConsumerType(**cstwMPC_calibrated_parameters)\n",
    "\n",
    "# Specify the distribution of the discount factor\n",
    "num_types = 7              # number of types we want\n",
    "DiscFac_mean   = 0.9855583 # center of beta distribution \n",
    "DiscFac_spread = 0.0085    # spread of beta distribution\n",
    "DiscFac_dstn = approxUniform(num_types, DiscFac_mean-DiscFac_spread, DiscFac_mean+DiscFac_spread)[1]\n",
    "\n",
    "MyTypes = [] # initialize an empty list to hold our consumer types\n",
    "for nn in range(num_types):\n",
    "    # Now create the types, and append them to the list MyTypes\n",
    "    NewType = deepcopy(BaselineType)\n",
    "    NewType.DiscFac = DiscFac_dstn[nn]\n",
    "    NewType.seed = nn # give each consumer type a different RNG seed\n",
    "    MyTypes.append(NewType)"
   ]
  },
  {
   "cell_type": "markdown",
   "metadata": {
    "deletable": true,
    "editable": true
   },
   "source": [
    "## Solving and Simulating the Baseline Agents\n",
    "\n",
    "Now let's solve and simulate each of our types of agents.  If you look in the parameter dictionary (or at any of the agent objects themselves), you will see that each one has an $\\texttt{AgentCount}$ attribute of 10000. That is, these seven ex ante heterogeneous types each represent ten thousand individual agents that will experience ex post heterogeneity when they draw different income (and mortality) shocks over time.\n",
    "\n",
    "In the code block below, fill in the contents of the loop to solve and simulate each agent type for many periods.  To do this, you should invoke the methods $\\texttt{solve}$, $\\texttt{initializeSim}$, and $\\texttt{simulate}$ in that order.  Simulating for 1200 quarters (300 years) will approximate the long run distribution of wealth in the population. "
   ]
  },
  {
   "cell_type": "code",
   "execution_count": 4,
   "metadata": {
    "collapsed": false,
    "deletable": true,
    "editable": true
   },
   "outputs": [],
   "source": [
    "# Progress bar keeps track interactively of how many have been made\n",
    "for ThisType in log_progress(MyTypes, every=1):\n",
    "    ThisType.solve()\n",
    "    ThisType.initializeSim()\n",
    "    ThisType.simulate()"
   ]
  },
  {
   "cell_type": "markdown",
   "metadata": {
    "deletable": true,
    "editable": true
   },
   "source": [
    "To verify that you wrote that code correctly, let's check that the aggregate level of capital (total assets held by all households) to income ratio equals what we expected it would be.  To do that, let's combine the asset holdings of all types, take the mean, and see if we get the desired capital to income ratio of 10.26.\n",
    "\n",
    "NB: Because there is no permanent income growth in this model, all shocks are mean one and idiosyncratic, and we have many agents, aggregate or average income is 1.0. "
   ]
  },
  {
   "cell_type": "code",
   "execution_count": 5,
   "metadata": {
    "collapsed": false,
    "deletable": true,
    "editable": true
   },
   "outputs": [
    {
     "name": "stdout",
     "output_type": "stream",
     "text": [
      "The ratio of aggregate capital to permanent income is 10.26\n"
     ]
    }
   ],
   "source": [
    "aLvl_all = np.concatenate([ThisType.aLvlNow for ThisType in MyTypes])\n",
    "print('The ratio of aggregate capital to permanent income is ' + decfmt2(np.mean(aLvl_all)))"
   ]
  },
  {
   "cell_type": "markdown",
   "metadata": {
    "deletable": true,
    "editable": true
   },
   "source": [
    "## Plotting the Lorenz Curve"
   ]
  },
  {
   "cell_type": "markdown",
   "metadata": {
    "deletable": true,
    "editable": true
   },
   "source": [
    "## Calculating the Lorenz Distance at Targets\n",
    "\n",
    "Now we want to construct a function that calculates the Euclidean distance between simulated and actual Lorenz curves at the four percentiles of interest: 20, 40, 60, and 80.  "
   ]
  },
  {
   "cell_type": "markdown",
   "metadata": {
    "deletable": true,
    "editable": true
   },
   "source": [
    "### PROBLEM - Create a Function to Calculate Lorenz Distance\n",
    "Now let's write a function that calculates the Euclidean distance between simulated and actual Lorenz curves at the four percentiles of interest: 20, 40, 60, and 80.  Fill in the skeleton of the function below, and then test your function using the input $\\texttt{MyTypes}$.  If you did it correctly, the Lorenz distance should be 0.03.\n",
    "\n",
    "You may find it useful to check out some documentation for $\\texttt{HARK.utilities}$ [at this link](https://econ-ark.github.io/HARK/generated/HARKutilities.html)."
   ]
  },
  {
   "cell_type": "code",
   "execution_count": 6,
   "metadata": {
    "collapsed": false,
    "deletable": true,
    "editable": true
   },
   "outputs": [
    {
     "name": "stdout",
     "output_type": "stream",
     "text": [
      "The Euclidean distance between simulated and actual Lorenz curves is 0.0301771398207\n"
     ]
    }
   ],
   "source": [
    "from HARK.utilities import getLorenzShares, getPercentiles\n",
    "from HARK.cstwMPC.SetupParamsCSTW import SCF_wealth, SCF_weights\n",
    "\n",
    "pctiles=np.array([0.2,0.4,0.6,0.8])\n",
    "\n",
    "lorenz_sim = getLorenzShares(aLvl_all,percentiles=pctiles)\n",
    "lorenz_scf = getLorenzShares(SCF_wealth,weights=SCF_weights,percentiles=pctiles)\n",
    "\n",
    "def LorenzDistance(points1,points2):\n",
    "    distance = np.sqrt(np.sum((points1-points2)**2))\n",
    "    return distance \n",
    "\n",
    "print('The Euclidean distance between simulated and actual Lorenz curves is '+str(LorenzDistance(lorenz_sim,lorenz_scf))) "
   ]
  },
  {
   "cell_type": "markdown",
   "metadata": {
    "deletable": true,
    "editable": true
   },
   "source": [
    "## The Distribution Of the Marginal Propensity to Consume\n",
    "\n",
    "For many macroeconomic purposes, the distribution of the MPC $\\kappa$ is more important than the distribution of wealth.  Ours is a quarterly model, and MPC's are typically reported on an annual basis; we can compute an approximate MPC from the quraterly ones as $\\kappa_{Y} \\approx 1.0 - (1.0 - \\kappa_{Q})^4$\n",
    "\n",
    "In the cell below, we retrieve the MPCs from our simulated consumers and show that the 10th percentile in the MPC distribution is only about 6 percent, while at the 90th percentile it is almost 0.5"
   ]
  },
  {
   "cell_type": "code",
   "execution_count": 7,
   "metadata": {
    "collapsed": false,
    "deletable": true,
    "editable": true
   },
   "outputs": [
    {
     "name": "stdout",
     "output_type": "stream",
     "text": [
      "The MPC at the 10th percentile of the distribution is 0.06\n",
      "The MPC at the 50th percentile of the distribution is 0.20\n",
      "The MPC at the 90th percentile of the distribution is 0.49\n"
     ]
    }
   ],
   "source": [
    "# Retrieve the MPC's\n",
    "percentiles=np.linspace(0.1,0.9,9)\n",
    "MPC_sim = np.concatenate([ThisType.MPCnow for ThisType in MyTypes])\n",
    "MPCpercentiles_quarterly = getPercentiles(MPC_sim,percentiles=percentiles)\n",
    "MPCpercentiles_annual = 1.0 - (1.0 - MPCpercentiles_quarterly)**4\n",
    "\n",
    "print('The MPC at the 10th percentile of the distribution is '+str(decfmt2(MPCpercentiles_annual[0])))\n",
    "print('The MPC at the 50th percentile of the distribution is '+str(decfmt2(MPCpercentiles_annual[4])))\n",
    "print('The MPC at the 90th percentile of the distribution is '+str(decfmt2(MPCpercentiles_annual[-1])))"
   ]
  },
  {
   "cell_type": "markdown",
   "metadata": {
    "deletable": true,
    "editable": true
   },
   "source": [
    "### PROBLEM\n",
    "\n",
    "Now let's look in more detail at the distribution of the MPC.  In the code block below, write a function that produces text output of the following form:\n",
    "\n",
    "$\\texttt{The 35th percentile of the MPC is 0.15623}$\n",
    "\n",
    "Your function should take two inputs: a list of types of consumers and an array of percentiles (numbers between 0 and 1). It should return no outputs, merely print to screen one line of text for each requested percentile.  The model is calibrated at a quarterly frequency, but Carroll et al report MPCs at an annual frequency. To convert, use the formula:\n",
    "\n",
    "$\\kappa_{Y} \\approx 1.0 - (1.0 - \\kappa_{Q})^4$"
   ]
  },
  {
   "cell_type": "markdown",
   "metadata": {
    "deletable": true,
    "editable": true
   },
   "source": [
    "### SOLUTION\n",
    "\n"
   ]
  },
  {
   "cell_type": "code",
   "execution_count": 8,
   "metadata": {
    "collapsed": false,
    "deletable": true,
    "editable": true
   },
   "outputs": [
    {
     "name": "stdout",
     "output_type": "stream",
     "text": [
      "The MPC at the 20th percentile of the distribution is 0.0669027747285\n",
      "The MPC at the 40th percentile of the distribution is 0.115577636997\n",
      "The MPC at the 60th percentile of the distribution is 0.265134073362\n",
      "The MPC at the 80th percentile of the distribution is 0.40048447591\n"
     ]
    }
   ],
   "source": [
    "def MPC_percentile_report(MyTypes,pctiles):\n",
    "    MPC_sim = np.concatenate([ThisType.MPCnow for ThisType in MyTypes])\n",
    "    MPC_q = getPercentiles(MPC_sim,percentiles=pctiles)\n",
    "    MPC_y = 1-(1-MPC_q)**4\n",
    "    for i in range(len(pctiles)):\n",
    "        print('The MPC at the '+str(int(pctiles[i]*100))+'th ' +'percentile of the distribution is '+str(MPC_y[i]))\n",
    "    \n",
    "MPC_percentile_report(MyTypes,pctiles)"
   ]
  },
  {
   "cell_type": "markdown",
   "metadata": {
    "deletable": true,
    "editable": true
   },
   "source": [
    "## Adding Very Impatient Households\n",
    "\n",
    "Now that we have some tools for examining both microeconomic (the MPC across the population) and macroeconomic (the distribution and overall level of wealth) outcomes from our model, we are all set to conduct our experiment.\n",
    "\n",
    "In this exercise, we are going to add very impatient households to the economy in a very direct way: by replacing the *most impatient consumer type* with an *even more impatient type*.  Specifically, we will have these agents have a discount factor of $\\beta = 0.80$ at a quarterly frequency, which corresponds to $\\beta \\approx 0.41$ annual.\n",
    "\n",
    "In the code block below, we:\n",
    "\n",
    "1. Replicate the list of agents using $\\texttt{deepcopy}$.\n",
    "2. Set the $\\beta$ of the most impatient type to $0.80$ (for the copied set of agents).\n",
    "3. Solve and simulate the most impatient type (for the copied set of agents)."
   ]
  },
  {
   "cell_type": "code",
   "execution_count": 9,
   "metadata": {
    "collapsed": false,
    "deletable": true,
    "editable": true
   },
   "outputs": [
    {
     "name": "stdout",
     "output_type": "stream",
     "text": [
      "The MPC at the 10th percentile of the distribution is 0.06\n",
      "The MPC at the 50th percentile of the distribution is 0.20\n",
      "The MPC at the 90th percentile of the distribution is 0.97\n"
     ]
    }
   ],
   "source": [
    "# Follow the instructions above to make another list of agents that includes *very* impatient households.\n",
    "NewTypes = deepcopy(MyTypes)\n",
    "NewTypes[0].DiscFac = 0.8\n",
    "NewTypes[0].solve()\n",
    "NewTypes[0].initializeSim()\n",
    "NewTypes[0].simulate()\n",
    "\n",
    "# Retrieve the MPC's\n",
    "percentiles=np.linspace(0.1,0.9,9)\n",
    "MPC_sim = np.concatenate([ThisType.MPCnow for ThisType in NewTypes])\n",
    "MPCpercentiles_quarterly = getPercentiles(MPC_sim,percentiles=percentiles)\n",
    "MPCpercentiles_annual = 1.0 - (1.0 - MPCpercentiles_quarterly)**4\n",
    "\n",
    "print('The MPC at the 10th percentile of the distribution is '+str(decfmt2(MPCpercentiles_annual[0])))\n",
    "print('The MPC at the 50th percentile of the distribution is '+str(decfmt2(MPCpercentiles_annual[4])))\n",
    "print('The MPC at the 90th percentile of the distribution is '+str(decfmt2(MPCpercentiles_annual[-1])))"
   ]
  },
  {
   "cell_type": "markdown",
   "metadata": {
    "deletable": true,
    "editable": true
   },
   "source": [
    "### PROBLEM\n",
    "## Testing the Implications of Very Impatient Households\n",
    "\n",
    "Now that we have the baseline set of simulated agents (in $\\texttt{MyTypes}$) and the altered set of simulated agents (in whatever you named your copied version), let's investigate what this means for micro- and macroeconomic outcomes.  In the code block below, use both lists of agents and the data tools you wrote above to investigate the following questions:\n",
    "\n",
    "1. Did introducing very impatient households generate a substantial proportion of hand-to-mouth households?\n",
    "   - Define 'hand to mouth' as households whose quarterly MPC is greater than 0.7\n",
    "2. Did introducing very impatient households affect the simulated model's ability to match the empirical distribution of wealth and its aggregate level?\n",
    "3. Much of the \"behavioral\" consumption literature concludes, when consumers are found to have very high MPC's, that the standard optimal consumption model \"doesn't work\" \n",
    "   * Given what you have found, can you reject the hypothesis that hand-to-mouth households arise in the data because they are very impatient?\n",
    "\n",
    "Use the markdown block below the code block to briefly answer those questions."
   ]
  },
  {
   "cell_type": "markdown",
   "metadata": {
    "deletable": true,
    "editable": true
   },
   "source": [
    "### SOLUTION\n",
    "\n",
    "Let us first compare the distribution of MPCs between the baseline case and altered case. "
   ]
  },
  {
   "cell_type": "code",
   "execution_count": 10,
   "metadata": {
    "collapsed": false,
    "deletable": true,
    "editable": true
   },
   "outputs": [
    {
     "name": "stdout",
     "output_type": "stream",
     "text": [
      "The MPC at the 10th percentile of the distribution is 0.0571779419614\n",
      "The MPC at the 12th percentile of the distribution is 0.0582798059284\n",
      "The MPC at the 14th percentile of the distribution is 0.0641718739223\n",
      "The MPC at the 16th percentile of the distribution is 0.0662292630021\n",
      "The MPC at the 19th percentile of the distribution is 0.0665198553645\n",
      "The MPC at the 21th percentile of the distribution is 0.0673095521006\n",
      "The MPC at the 23th percentile of the distribution is 0.0677018737413\n",
      "The MPC at the 26th percentile of the distribution is 0.0690553903882\n",
      "The MPC at the 28th percentile of the distribution is 0.0767104701707\n",
      "The MPC at the 30th percentile of the distribution is 0.0781501850691\n",
      "The MPC at the 32th percentile of the distribution is 0.0805081660941\n",
      "The MPC at the 35th percentile of the distribution is 0.0826894754005\n",
      "The MPC at the 37th percentile of the distribution is 0.0921524282069\n",
      "The MPC at the 39th percentile of the distribution is 0.11095354262\n",
      "The MPC at the 42th percentile of the distribution is 0.134212387814\n",
      "The MPC at the 44th percentile of the distribution is 0.150854739577\n",
      "The MPC at the 46th percentile of the distribution is 0.171670414947\n",
      "The MPC at the 48th percentile of the distribution is 0.186853532299\n",
      "The MPC at the 51th percentile of the distribution is 0.197491049582\n",
      "The MPC at the 53th percentile of the distribution is 0.227833462297\n",
      "The MPC at the 55th percentile of the distribution is 0.236172957015\n",
      "The MPC at the 57th percentile of the distribution is 0.263401161181\n",
      "The MPC at the 60th percentile of the distribution is 0.265134073362\n",
      "The MPC at the 62th percentile of the distribution is 0.295841322877\n",
      "The MPC at the 64th percentile of the distribution is 0.302883496625\n",
      "The MPC at the 67th percentile of the distribution is 0.332149579911\n",
      "The MPC at the 69th percentile of the distribution is 0.34836026158\n",
      "The MPC at the 71th percentile of the distribution is 0.377150493644\n",
      "The MPC at the 74th percentile of the distribution is 0.395151871784\n",
      "The MPC at the 76th percentile of the distribution is 0.42120919898\n",
      "The MPC at the 78th percentile of the distribution is 0.465909565118\n",
      "The MPC at the 80th percentile of the distribution is 0.5468037158\n",
      "The MPC at the 83th percentile of the distribution is 0.711855842618\n",
      "The MPC at the 85th percentile of the distribution is 0.930711427569\n",
      "The MPC at the 87th percentile of the distribution is 0.955733186156\n",
      "The MPC at the 90th percentile of the distribution is 0.966966297978\n"
     ]
    }
   ],
   "source": [
    "pctile_fine = np.linspace(0.1,0.9,36)\n",
    "MPC_percentile_report(NewTypes,pctile_fine)"
   ]
  },
  {
   "cell_type": "markdown",
   "metadata": {
    "deletable": true,
    "editable": true
   },
   "source": [
    "Let us now compare the wealth distribution between the baseline case and altered case. "
   ]
  },
  {
   "cell_type": "markdown",
   "metadata": {
    "deletable": true,
    "editable": true
   },
   "source": [
    "### PROBLEM -- Plot the new distribution of wealth\n",
    "\n",
    "The $\\texttt{matplotlib}$ library provides plotting functionality that replicates Matlab's plot features (more or less). As an example of how to use it, we have written a few lines of code that plot the empirical vs simulated Lorenz curves.  Write some code that plots the CDF of the MPC before and after adding very impatient households, and plots the DIFFERENCES between the Lorenz curves across the two populations.  Interpret the two graphs."
   ]
  },
  {
   "cell_type": "markdown",
   "metadata": {
    "deletable": true,
    "editable": true
   },
   "source": [
    "### SOLUTION"
   ]
  },
  {
   "cell_type": "code",
   "execution_count": 18,
   "metadata": {
    "collapsed": false,
    "deletable": true,
    "editable": true
   },
   "outputs": [
    {
     "data": {
      "image/png": "[encoded data removed]",
      "text/plain": [
       "<matplotlib.figure.Figure at 0x116ea8128>"
      ]
     },
     "metadata": {},
     "output_type": "display_data"
    }
   ],
   "source": [
    "baseline_wealth = np.concatenate([ThisType.aLvlNow for ThisType in MyTypes])\n",
    "new_wealth =  np.concatenate([ThisType.aLvlNow for ThisType in NewTypes])\n",
    "\n",
    "pctiles = np.linspace(0.001,0.999,15)\n",
    "baseline_Lorenz_points = getLorenzShares(baseline_wealth,percentiles=pctiles)\n",
    "new_Lorenz_points = getLorenzShares(new_wealth,percentiles=pctiles)\n",
    "scf_Lorenz_points = getLorenzShares(SCF_wealth,percentiles=pctiles)\n",
    "\n",
    "## Plot\n",
    "plt.figure(figsize=(5,5))\n",
    "plt.title('Wealth Distribution')\n",
    "plt.plot(pctiles,new_Lorenz_points,'--k',label='With Very Impatient Type')\n",
    "plt.plot(pctiles,baseline_Lorenz_points,'-b',label='Baseline')\n",
    "plt.plot(pctiles,scf_Lorenz_points,'y-*',label='Actual')\n",
    "plt.plot(pctiles,pctiles,'g-.',label='45 Degree')\n",
    "plt.xlabel('Percentile of Wealth')\n",
    "plt.ylabel('Cumulative share of the Wealth')\n",
    "plt.legend(loc=2)\n",
    "plt.ylim([0,1])\n",
    "plt.show()"
   ]
  },
  {
   "cell_type": "code",
   "execution_count": 19,
   "metadata": {
    "collapsed": false,
    "deletable": true,
    "editable": true
   },
   "outputs": [
    {
     "data": {
      "image/png": "[encoded data removed]",
      "text/plain": [
       "<matplotlib.figure.Figure at 0x116eb2898>"
      ]
     },
     "metadata": {},
     "output_type": "display_data"
    }
   ],
   "source": [
    "baseline_MPC = np.concatenate([ThisType.MPCnow for ThisType in MyTypes])\n",
    "new_MPC =  np.concatenate([ThisType.MPCnow for ThisType in NewTypes])\n",
    "\n",
    "pctiles = np.linspace(0.001,0.999,15)\n",
    "baseline_Lorenz_points = getLorenzShares(baseline_MPC,percentiles=pctiles)\n",
    "new_Lorenz_points = getLorenzShares(new_MPC,percentiles=pctiles)\n",
    "\n",
    "## Plot\n",
    "plt.figure(figsize=(5,5))\n",
    "plt.title('MPC Distribution')\n",
    "plt.plot(pctiles,new_Lorenz_points,'--k',label='With Very Impatient Type')\n",
    "plt.plot(pctiles,baseline_Lorenz_points,'-b',label='Baseline')\n",
    "plt.plot(pctiles,pctiles,'g-.',label='45 Degree')\n",
    "plt.xlabel('Percentile of MPC')\n",
    "plt.ylabel('Cumulative distribution of the MPC')\n",
    "plt.legend(loc=2)\n",
    "plt.ylim([0,1])\n",
    "plt.show()"
   ]
  },
  {
   "cell_type": "code",
   "execution_count": 15,
   "metadata": {
    "collapsed": false,
    "deletable": true,
    "editable": true
   },
   "outputs": [
    {
     "data": {
      "text/plain": [
       "<matplotlib.text.Text at 0x11f15d400>"
      ]
     },
     "execution_count": 15,
     "metadata": {},
     "output_type": "execute_result"
    },
    {
     "data": {
      "image/png": "[encoded data removed]",
      "text/plain": [
       "<matplotlib.figure.Figure at 0x117ab6f60>"
      ]
     },
     "metadata": {},
     "output_type": "display_data"
    }
   ],
   "source": [
    "diff_lorenz = baseline_Lorenz_points-new_Lorenz_points\n",
    "\n",
    "plt.plot(pctiles,diff_lorenz)\n",
    "plt.ylabel('Baseline - With Very Impatient Case')\n",
    "plt.xlabel('Percentile of MPC')"
   ]
  },
  {
   "cell_type": "code",
   "execution_count": 16,
   "metadata": {
    "collapsed": false,
    "deletable": true,
    "editable": true
   },
   "outputs": [
    {
     "name": "stdout",
     "output_type": "stream",
     "text": [
      "The Euclidean distance between the baseline and one with very impatient type Lorenz curves in MPC is 0.377201452106\n"
     ]
    }
   ],
   "source": [
    "print('The Euclidean distance between the baseline and one with very impatient type Lorenz curves in MPC is '+str(LorenzDistance(baseline_Lorenz_points,new_Lorenz_points)))  "
   ]
  },
  {
   "cell_type": "markdown",
   "metadata": {
    "deletable": true,
    "editable": true
   },
   "source": [
    "There is a significance increase in the difference of the Lorenz curve of MPC in high percentiles range.This implies more people are shifted toward a high MPC in the population."
   ]
  },
  {
   "cell_type": "markdown",
   "metadata": {
    "deletable": true,
    "editable": true
   },
   "source": [
    "### SOLUTION \n",
    "\n",
    "1. To answer question 1, from above we can see there is at least 17% of the population are hand-to-mouth once we add very impatient type. This is a significant increase in the proportion of hand-to-mouth consumers as without the very impatient type, less than 5% population is hand-to-mouth.\n",
    "\n",
    "2. To answer question 2, from above we can see that adding the very impatient type does not significantly change the wealth distribution. The difference between the case with very impatient type and baseline is small.\n",
    "\n",
    "3. Based on what we found, we cannot reject the hypoethesis presense of hand-to-mouth consumers are simply because they are very impatient. We thus do not rely on very ''behavioral'' explanations to this type of behaviors. "
   ]
  }
 ],
 "metadata": {
  "jupytext": {
   "formats": "ipynb,py:percent",
   "metadata_filter": {
    "cells": {
     "additional": [
      "collapsed"
     ]
    }
   },
   "text_representation": {
    "extension": ".py",
    "format_name": "percent",
    "format_version": "1.2",
    "jupytext_version": "0.8.6"
   }
  },
  "kernelspec": {
   "display_name": "Python 3",
   "language": "python",
   "name": "python3"
  },
  "language_info": {
   "codemirror_mode": {
    "name": "ipython",
    "version": 3
   },
   "file_extension": ".py",
   "mimetype": "text/x-python",
   "name": "python",
   "nbconvert_exporter": "python",
   "pygments_lexer": "ipython3",
   "version": "3.5.3"
  },
  "varInspector": {
   "cols": {
    "lenName": 16,
    "lenType": 16,
    "lenVar": 40
   },
   "kernels_config": {
    "python": {
     "delete_cmd_postfix": "",
     "delete_cmd_prefix": "del ",
     "library": "var_list.py",
     "varRefreshCmd": "print(var_dic_list())"
    },
    "r": {
     "delete_cmd_postfix": ") ",
     "delete_cmd_prefix": "rm(",
     "library": "var_list.r",
     "varRefreshCmd": "cat(var_dic_list()) "
    }
   },
   "types_to_exclude": [
    "module",
    "function",
    "builtin_function_or_method",
    "instance",
    "_Feature"
   ],
   "window_display": false
  }
 },
 "nbformat": 4,
 "nbformat_minor": 0
}
